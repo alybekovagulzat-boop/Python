{
 "cells": [
  {
   "cell_type": "code",
   "execution_count": null,
   "id": "a8c6b23f",
   "metadata": {},
   "outputs": [],
   "source": [
    "(0.16 * ((3.2 - (3/40)) + 2 * (3/11) * (4.125 /3 * 3 / 4)) / (5 * 1 / 6 - (0.3)))"
   ]
  },
  {
   "cell_type": "code",
   "execution_count": 3,
   "id": "d5131872",
   "metadata": {},
   "outputs": [
    {
     "data": {
      "text/plain": [
       "0.32"
      ]
     },
     "execution_count": 3,
     "metadata": {},
     "output_type": "execute_result"
    }
   ],
   "source": [
    "0.16 * 2"
   ]
  },
  {
   "cell_type": "code",
   "execution_count": 2,
   "id": "e4899846",
   "metadata": {},
   "outputs": [
    {
     "data": {
      "text/plain": [
       "4"
      ]
     },
     "execution_count": 2,
     "metadata": {},
     "output_type": "execute_result"
    }
   ],
   "source": [
    "2 + 2"
   ]
  },
  {
   "cell_type": "code",
   "execution_count": 1,
   "id": "7fc637a3",
   "metadata": {},
   "outputs": [
    {
     "name": "stdout",
     "output_type": "stream",
     "text": [
      "7\n"
     ]
    }
   ],
   "source": [
    "a = 2\n",
    "b = 5\n",
    "print(a + b)"
   ]
  }
 ],
 "metadata": {
  "kernelspec": {
   "display_name": "Python 3",
   "language": "python",
   "name": "python3"
  },
  "language_info": {
   "codemirror_mode": {
    "name": "ipython",
    "version": 3
   },
   "file_extension": ".py",
   "mimetype": "text/x-python",
   "name": "python",
   "nbconvert_exporter": "python",
   "pygments_lexer": "ipython3",
   "version": "3.14.0"
  }
 },
 "nbformat": 4,
 "nbformat_minor": 5
}
